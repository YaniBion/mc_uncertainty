{
 "cells": [
  {
   "cell_type": "code",
   "execution_count": 1,
   "metadata": {},
   "outputs": [
    {
     "name": "stderr",
     "output_type": "stream",
     "text": [
      "llh_defs/poisson.py:280: RuntimeWarning: invalid value encountered in multiply\n",
      "  arr=numpy.zeros(shape=(max_val+1, max_val+1))*(-numpy.inf)\n"
     ]
    },
    {
     "name": "stdout",
     "output_type": "stream",
     "text": [
      "0.9999999999999997\n"
     ]
    }
   ],
   "source": [
    "import llh_defs.poisson as poisson\n",
    "import numpy\n",
    "import scipy.special\n",
    "import pylab\n",
    "import llh_defs.multinomial as multinomial\n",
    "\n",
    "### two bins with uneven pseudo MonteCarlo weight distribution -> plot finite-sample binomial distribution as special case of finite-sample \n",
    "### multinomial.. just because it is possible\n",
    "\n",
    "log_stirling=poisson.generate_log_stirling(max_val=300)\n",
    "# sum weights first bin: 4.0  - 3 weighted events total\n",
    "weights_bin1_ds1=numpy.array([1.0,0.2,2.8])\n",
    "weights_bin1_ds2=numpy.array([2.0])\n",
    "weights_bin1_ds3=numpy.array([])\n",
    "\n",
    "k_list=numpy.array([2])\n",
    "\n",
    "\n",
    "weights_dict=dict()\n",
    "weights_dict[\"sig\"]=[weights_bin1_ds1]\n",
    "weights_dict[\"bg\"]=[weights_bin1_ds2]\n",
    "weights_dict[\"third\"]=[weights_bin1_ds3]\n",
    "\n",
    "\n",
    "counts=numpy.arange(200)\n",
    "\n",
    "yvals_standard_pg=[numpy.exp(poisson.generic_pdf(numpy.array([i]), weights_dict)) for i in counts]\n",
    "yvals_gen2=[numpy.exp(poisson.generic_pdf(numpy.array([i]), weights_dict, type=\"gen2\")) for i in counts]\n",
    "yvals_gen2_effective=[numpy.exp(poisson.generic_pdf(numpy.array([i]), weights_dict, type=\"gen2_effective\")) for i in counts]\n",
    "yvals_gen3=[numpy.exp(poisson.generic_pdf(numpy.array([i]), weights_dict, type=\"gen3\", log_stirling=log_stirling)) for i in counts]\n",
    "\n",
    "print sum(yvals_gen2)\n",
    "#avg_weight_list=[numpy.ones(len(weights_bin1))*avg_w_1, numpy.ones(len(weights_bin1))*avg_w_2]"
   ]
  },
  {
   "cell_type": "markdown",
   "metadata": {
    "collapsed": true
   },
   "source": []
  }
 ],
 "metadata": {
  "kernelspec": {
   "display_name": "Python 2",
   "language": "python",
   "name": "python2"
  },
  "language_info": {
   "codemirror_mode": {
    "name": "ipython",
    "version": 2
   },
   "file_extension": ".py",
   "mimetype": "text/x-python",
   "name": "python",
   "nbconvert_exporter": "python",
   "pygments_lexer": "ipython2",
   "version": "2.7.13"
  }
 },
 "nbformat": 4,
 "nbformat_minor": 2
}
